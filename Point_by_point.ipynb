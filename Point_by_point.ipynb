{
 "cells": [
  {
   "cell_type": "markdown",
   "metadata": {},
   "source": [
    "Point by point stage movement using set position\n"
   ]
  },
  {
   "cell_type": "code",
   "execution_count": 1,
   "metadata": {},
   "outputs": [],
   "source": [
    "from pipython2 import GCSDevice\n",
    "from pipython2 import gcscommands\n",
    "import numpy as np\n",
    "import matplotlib.pyplot as plt\n",
    "import matplotlib.cm as cm\n",
    "import time\n",
    "import serial\n",
    "import subprocess\n",
    "import matplotlib\n",
    "from tqdm import tqdm as tqdm"
   ]
  },
  {
   "cell_type": "code",
   "execution_count": 2,
   "metadata": {},
   "outputs": [
    {
     "name": "stdout",
     "output_type": "stream",
     "text": [
      "GCSCommands(msgs=GCSMessages(interface=GCSDll(C:\\ProgramData\\PI\\GCSTranslator\\PI_GCS2_DLL_x64.dll)), id=-1)\n"
     ]
    }
   ],
   "source": [
    "#create device object\n",
    "gcs = GCSDevice('E-727')\n",
    "print(gcs)"
   ]
  },
  {
   "cell_type": "code",
   "execution_count": 3,
   "metadata": {},
   "outputs": [],
   "source": [
    "#gcs.InterfaceSetupDlg()"
   ]
  },
  {
   "cell_type": "code",
   "execution_count": 4,
   "metadata": {
    "scrolled": true
   },
   "outputs": [],
   "source": [
    "#connect Piezo stage (check COM number and baudrate from PI umove app)\n",
    "gcs.ConnectRS232(3,460800)"
   ]
  },
  {
   "cell_type": "code",
   "execution_count": 5,
   "metadata": {
    "scrolled": false
   },
   "outputs": [
    {
     "name": "stdout",
     "output_type": "stream",
     "text": [
      "(c)2015 Physik Instrumente (PI) GmbH & Co. KG, E-727, 0116008043, 13.21.00.08\n",
      "\n",
      "1=1 \n",
      "2=1 \n",
      "3=1\n",
      "\n"
     ]
    }
   ],
   "source": [
    "#check connection status and set servo mode ON\n",
    "#Correct value like  \"(c)2015 Physik Instrumente (PI) GmbH & Co. KG, E-727, 0116008043, 13.21.00.08\"\n",
    "print (gcs.qIDN())\n",
    "gcs.SVO1([1,2,3],[1,1,1])\n",
    "print(gcs.qSVO1([1,2,3]))  #1 - ON, 0 - OFF. For this script all values should be ON"
   ]
  },
  {
   "cell_type": "code",
   "execution_count": 6,
   "metadata": {},
   "outputs": [],
   "source": [
    "#open serial port for shutter control\n",
    "shutter_port = 'COM9' # change this to where Arduino is connected. Check Device Manager -> Ports\n",
    "shutter_serial = serial.Serial(shutter_port, 9600)\n",
    "shutter_channel = 'A'\n",
    "\n",
    "def shutter_open():\n",
    "    shutter_serial.write(\"A0\\n\".encode('utf-8'))\n",
    "\n",
    "def shutter_close():\n",
    "    shutter_serial.write(\"A1\\n\".encode('utf-8'))"
   ]
  },
  {
   "cell_type": "code",
   "execution_count": 7,
   "metadata": {},
   "outputs": [],
   "source": [
    "shutter_open()"
   ]
  },
  {
   "cell_type": "code",
   "execution_count": 8,
   "metadata": {},
   "outputs": [],
   "source": [
    "shutter_close()"
   ]
  },
  {
   "cell_type": "code",
   "execution_count": 9,
   "metadata": {},
   "outputs": [],
   "source": [
    "def run_spad(file_name, x, y, timestamps):\n",
    "    subprocess.Popen([r\"C:\\Users\\PREZES\\Documents\\stage-control\\nanoSPAD.exe\",\n",
    "                   str(file_name),\n",
    "                   str(x),\n",
    "                   str(y),\n",
    "                   str(timestamps),\n",
    "                   \"-t\"])"
   ]
  },
  {
   "cell_type": "code",
   "execution_count": 10,
   "metadata": {},
   "outputs": [],
   "source": [
    "import subprocess\n",
    "import numpy as np\n",
    "\n",
    "def photoncounting(int_time, file_name= r\"C:\\Users\\PREZES\\Documents\\stage-control\\SPAD_photocounting\\results\\temp\", spad_file= r\"C:\\Users\\PREZES\\Documents\\stage-control\\SPAD_photocounting\\nanoSPAD.exe\"):\n",
    "    '''The function runs the photon counting measurement i.e. saves the number of counts at each detector in the given time\n",
    "    Args:\n",
    "    int_time - The integration time of measurement (the duration of photoncounting measurement) in (10's of ns, not sure, Olek pleas check)\n",
    "    file_name - The path to file where the photoncounting data will be saved as a binary file\n",
    "    spad_file - The path to file with spad photoncounting program. (Rather don't change it)'''\n",
    "    subprocess.run([spad_file,\n",
    "                   \"-t\",\n",
    "                   str(file_name),\n",
    "                   str(0),\n",
    "                   str(0),\n",
    "                   str(int_time)])\n",
    "\n",
    "def readPhotoncounts(file_name= r\"C:\\Users\\PREZES\\Documents\\stage-control\\SPAD_photocounting\\results\\temp\"):\n",
    "    '''The function reads the photoncounting data and returns the vector of total counts at each SPAD pixel during the measurement\n",
    "    Args:\n",
    "    file_name - The path to file where the photoncounting data was saved as a binary file'''\n",
    "    \n",
    "    d=np.fromfile(file_name,dtype =np.uint8)\n",
    "    d=d.reshape(np.shape(d)[0]//4,4)\n",
    "    d=np.uint64(d)\n",
    "    d[:,1]=d[:,1]*(2**8)\n",
    "    d[:,2]=d[:,2]*(2**16)\n",
    "    d[:,3]=d[:,3]*(2**24)\n",
    "    I=(d.sum(axis=1))\n",
    "    return I"
   ]
  },
  {
   "cell_type": "code",
   "execution_count": 11,
   "metadata": {},
   "outputs": [],
   "source": [
    "def plot_chip(I):\n",
    "    M=np.zeros((500,500))\n",
    "    k=0\n",
    "    for j in range(5):\n",
    "        for i in range(5):\n",
    "            if j%2==0:\n",
    "                M[100*j:100*j+99,100*i:100*i+99]=I[k]\n",
    "                k+=1\n",
    "            else:\n",
    "                M[100*j:100*j+99,50+100*i:50+100*i+99]=I[k]\n",
    "                k+=1\n",
    "                if i==3:\n",
    "                    break\n",
    "    return M\n",
    "    "
   ]
  },
  {
   "cell_type": "code",
   "execution_count": 12,
   "metadata": {},
   "outputs": [],
   "source": [
    "#used basic functions defined here: C:\\Anaconda3\\Lib\\site-packages\\PIPython-1.3.9.40-py3.7.egg\\pipython\\gcscommands.py\n",
    "\n",
    "def point_by_point_snake_3(gcs,y_points,x_points,dwell_time,\n",
    "                       delta_dist,offset,rep = 10 ,velocity=50):\n",
    "    \"\"\"\n",
    "        V3 using trigger mode 2\n",
    "        Move stage in 2D on rectangular area and stop on every point for set dwell time.\n",
    "        Trigger on selected channel send signal when stage is on target\n",
    "        Parameters:\n",
    "        gcs : piezo stage object\n",
    "        x_points,y_points : Number of measuring points in both axis (int, minimum 2)\n",
    "        dwell_time : stop time for one point in seconds (float, minimum 0.01s)\n",
    "        delta_dist : distance between two neighbor points in micrometers (float, minimum 0.01um)\n",
    "        offset : start position of the stage ([float,float,float], range[0,200])\n",
    "       velocity: velocity of the stage\n",
    "       \n",
    "       Output  is +-2% of registered time and may depend on velocity\n",
    "    \"\"\"\n",
    "    dwell_time = dwell_time*1.0/1000.\n",
    "    wait_time =dwell_time +delta_dist*1.0/(velocity*1.2)+0.015\n",
    "    print(\"wait time set as \",wait_time)\n",
    "    gcs.VEL1([1,2,3],[10000,10000,10000])\n",
    "    gcs.MOV1([1,2,3],[offset[0]-delta_dist,offset[1],offset[2]-delta_dist])\n",
    "    input('Press enter to start')\n",
    "    gcs.VEL1([1,2,3],[velocity,velocity,velocity])\n",
    "    start =time.time()\n",
    "    gcs.CTO1(1,[2,3],[1,2])\n",
    "    gcs.CTO1(2,[2,3],[2,2])\n",
    "    gcs.CTO1(3,[2,3],[3,2])\n",
    "\n",
    "    t1=time.time()\n",
    "    print(0,0,t1-start)\n",
    "    tnow= time.time()\n",
    "    for a in range(rep):\n",
    "        try:\n",
    "            #Move to initial point\n",
    "            gcs.MOV1([1,2,3],offset)\n",
    "            t1=time.time()\n",
    "            while (time.time()-t1<wait_time):\n",
    "                continue\n",
    "            tnow=time.time() \n",
    "            print(0,0,time.time()-start,time.time()-tnow,max(dwell_time-0.01,0))\n",
    "            for i in range(int(x_points/2)):\n",
    "                \n",
    "                for j in range(int(y_points)-1):\n",
    "                    gcs.MOV1([1,2,3],[offset[0]+delta_dist*2*i,offset[1]+delta_dist*(j+1),offset[2]])\n",
    "\n",
    "                    t1=time.time()\n",
    "                    while (time.time()-t1<wait_time):\n",
    "                        continue\n",
    "                    tnow=time.time()\n",
    "                    #print(2*i,j+1)\n",
    "                gcs.MOV1([1,2,3],[offset[0]+delta_dist*(2*i+1),offset[1]+delta_dist*(j+1),offset[2]])\n",
    "                t1=time.time()\n",
    "                while (time.time()-t1<wait_time):\n",
    "                    continue\n",
    "                tnow=time.time() \n",
    "                #print(2*i+1,j+1)\n",
    "                for j in range(int(y_points)-1):\n",
    "                    gcs.MOV1([1,2,3],[offset[0]+delta_dist*(2*i+1),offset[1]+delta_dist*(y_points-j-2),offset[2]])\n",
    "                    t1=time.time()\n",
    "                    while (time.time()-t1<wait_time):\n",
    "                        continue\n",
    "                    tnow=time.time() \n",
    "                    #print(2*i+1,y_points-j-2)\n",
    "                if i <int(x_points/2)-1:\n",
    "                    gcs.MOV1([1,2,3],[offset[0]+delta_dist*(2*i+2),offset[1],offset[2]])\n",
    "                    t1=time.time()\n",
    "                    while (time.time()-t1<wait_time):\n",
    "                        continue\n",
    "                    tnow=time.time()\n",
    "                    #print(2*i+2,0)\n",
    "        except KeyboardInterrupt:\n",
    "            break\n",
    "    gcs.MOV1([1,2,3],[offset[0],offset[1],offset[2]])\n",
    "    print(\"finished stage scan, duration: \",time.time()-start)  \n",
    "    \n",
    "def point_by_point_snake_4(gcs,y_points,x_points,dwell_time,\n",
    "                       delta_dist,offset,rep = 10 ,velocity=50):\n",
    "    \"\"\"\n",
    "        V3 using trigger mode 2\n",
    "        Move stage in 2D on rectangular area and stop on every point for set dwell time.\n",
    "        Trigger on selected channel send signal when stage is on target\n",
    "        Parameters:\n",
    "        gcs : piezo stage object\n",
    "        x_points,y_points : Number of measuring points in both axis (int, minimum 2)\n",
    "        dwell_time : stop time for one point in seconds (float, minimum 0.01s)\n",
    "        delta_dist : distance between two neighbor points in micrometers (float, minimum 0.01um)\n",
    "        offset : start position of the stage ([float,float,float], range[0,200])\n",
    "       velocity: velocity of the stage\n",
    "       \n",
    "       Output  is +-2% of registered time and may depend on velocity\n",
    "    \"\"\"\n",
    "    dwell_time = dwell_time*1.0/1000.\n",
    "    wait_time =dwell_time +delta_dist*1.0/(velocity*1.2)+0.015\n",
    "    print(\"wait time set as \",wait_time)\n",
    "    gcs.VEL1([1,2,3],[10000,10000,10000])\n",
    "    gcs.MOV1([1,2,3],[offset[0]-delta_dist,offset[1],offset[2]-delta_dist])\n",
    "    #input('Press enter to start')\n",
    "    gcs.VEL1([1,2,3],[velocity,velocity,velocity])\n",
    "    start =time.time()\n",
    "    gcs.CTO1(1,[2,3],[1,2])\n",
    "    gcs.CTO1(2,[2,3],[2,2])\n",
    "    gcs.CTO1(3,[2,3],[3,2])\n",
    "\n",
    "    t1=time.time()\n",
    "    print(0,0,t1-start)\n",
    "    tnow= time.time()\n",
    "    for a in range(rep):\n",
    "        try:\n",
    "            #Move to initial point\n",
    "            gcs.MOV1([1,2,3],offset)\n",
    "            t1=time.time()\n",
    "            while (time.time()-t1<wait_time):\n",
    "                continue\n",
    "            tnow=time.time() \n",
    "            print(0,0,time.time()-start,time.time()-tnow,max(dwell_time-0.01,0))\n",
    "            for i in tqdm(range(int(x_points/2))):\n",
    "                \n",
    "                for j in range(int(y_points)-1):\n",
    "                    gcs.MOV1([1,2,3],[offset[0]+delta_dist*2*i,offset[1]+delta_dist*(j+1),offset[2]])\n",
    "\n",
    "                    t1=time.time()\n",
    "                    while (time.time()-t1<wait_time):\n",
    "                        continue\n",
    "                    tnow=time.time()\n",
    "                    #print(2*i,j+1)\n",
    "                gcs.MOV1([1,2,3],[offset[0]+delta_dist*(2*i+1),offset[1]+delta_dist*(j+1),offset[2]])\n",
    "                t1=time.time()\n",
    "                while (time.time()-t1<wait_time):\n",
    "                    continue\n",
    "                tnow=time.time() \n",
    "                #print(2*i+1,j+1)\n",
    "                for j in range(int(y_points)-1):\n",
    "                    gcs.MOV1([1,2,3],[offset[0]+delta_dist*(2*i+1),offset[1]+delta_dist*(y_points-j-2),offset[2]])\n",
    "                    t1=time.time()\n",
    "                    while (time.time()-t1<wait_time):\n",
    "                        continue\n",
    "                    tnow=time.time() \n",
    "                    #print(2*i+1,y_points-j-2)\n",
    "                if i <int(x_points/2)-1:\n",
    "                    gcs.MOV1([1,2,3],[offset[0]+delta_dist*(2*i+2),offset[1],offset[2]])\n",
    "                    t1=time.time()\n",
    "                    while (time.time()-t1<wait_time):\n",
    "                        continue\n",
    "                    tnow=time.time()\n",
    "                    #print(2*i+2,0)\n",
    "        except KeyboardInterrupt:\n",
    "            break\n",
    "    gcs.MOV1([1,2,3],[offset[0],offset[1],offset[2]])\n",
    "    print(\"finished stage scan, duration: \",time.time()-start)                       \n",
    "        \n",
    "def move_to_point(gcs, offset, trigger_channel = 1):\n",
    "    \"\"\"\n",
    "        Move stage command to selected position in 3D and trigger signal after arrival  \n",
    "        gcs : piezo stage object\n",
    "\n",
    "        offset : start position of the stage ([float,float,float], range[0,200])\n",
    "        trigger_channel : output trigger channel (int, in [1,2,3])\n",
    "    \"\"\"    \n",
    "    if max(offset)>200 or min(offset)<0:\n",
    "        print('Set correct position between(0,200)')\n",
    "    else:\n",
    "        gcs.VEL1([1,2,3],[10000,10000,10000])    \n",
    "        gcs.CTO1(trigger_channel,[2,3],[1,2])\n",
    "        gcs.MOV1([1,2,3],offset)\n",
    "        \n",
    "def set_trigger_params(trigger_output,window_range=0.015,time_range=0.01):\n",
    "    \"\"\"\n",
    "    Set in memory parameters of on-target status parameters\n",
    "    trigger output :number of output channel (1,2,3)\n",
    "    window_range: distance between real value and target in which stage send high value in micrometer\n",
    "    time range: time for how long stage is in range to send a high value in seconds\n",
    "    \"\"\"\n",
    "    gcs.SPA1(trigger_output,'0x07000900',window_range )\n",
    "    gcs.SPA1(trigger_output,'0x07000901',time_range )   \n"
   ]
  },
  {
   "cell_type": "code",
   "execution_count": 13,
   "metadata": {},
   "outputs": [],
   "source": [
    "# Set on-target status parameters for all axes\n",
    "\n",
    "gcs.CCL1(1,'advanced')\n",
    "set_trigger_params(1,0.025,0.01)\n",
    "set_trigger_params(2,0.025,0.01)\n",
    "set_trigger_params(3,0.025,0.01)"
   ]
  },
  {
   "cell_type": "code",
   "execution_count": 17,
   "metadata": {
    "scrolled": true
   },
   "outputs": [
    {
     "name": "stderr",
     "output_type": "stream",
     "text": [
      "\r",
      "  0%|                                                   | 0/10 [00:00<?, ?it/s]"
     ]
    },
    {
     "name": "stdout",
     "output_type": "stream",
     "text": [
      "wait time set as  0.07333333333333333\n",
      "0 0 0.011999845504760742\n",
      "0 0 0.08999967575073242 0.0 0.04\n"
     ]
    },
    {
     "name": "stderr",
     "output_type": "stream",
     "text": [
      "100%|██████████████████████████████████████████| 10/10 [00:31<00:00,  3.15s/it]"
     ]
    },
    {
     "name": "stdout",
     "output_type": "stream",
     "text": [
      "finished stage scan, duration:  31.55999994277954\n"
     ]
    },
    {
     "name": "stderr",
     "output_type": "stream",
     "text": [
      "\n"
     ]
    }
   ],
   "source": [
    "#START SCAN\n",
    "# Process:\n",
    "#0) choose file name for saving\n",
    "#1) nanoSPAD_X/Y: number of scan points in X and Y\n",
    "#2) dwell_time: [ms]\n",
    "#3) delta_dist: scan step [um]\n",
    "#4) offset: starting point [um]\n",
    "#5) Run this cells\n",
    "\n",
    "data_file=r\"C:\\Users\\PREZES\\Documents\\stage-control\\data\\NANOspad\\2021.06\\skylan_astro_test_20x20_dwell50.spad\"\n",
    "log_file=data_file.replace(\".spad\", \".txt\")\n",
    "\n",
    "nanoSPAD_X=20\n",
    "nanoSPAD_Y=20\n",
    "dwell_time = 50\n",
    "delta_dist = 0.5\n",
    "offset = [119,133,100.277]\n",
    "velocity=50\n",
    "p=1.6\n",
    "np.savetxt(log_file, [nanoSPAD_X, nanoSPAD_Y,dwell_time,delta_dist,offset[0], offset[1], offset[2],p], fmt='%.3f')\n",
    "\n",
    "timestamping_duration=int(nanoSPAD_X*nanoSPAD_Y*dwell_time*p*100)+75000\n",
    "#timestamping_duration=700000000\n",
    "\n",
    "run_spad(data_file, x=1, y=1, timestamps=timestamping_duration)\n",
    "shutter_open() #open shutter\n",
    "time.sleep(0.75) #estimated duration of opening of the shutter\n",
    "point_by_point_snake_4(gcs, nanoSPAD_X, nanoSPAD_Y, dwell_time, delta_dist, offset, 1, velocity)\n",
    "shutter_close() #close shutter\n",
    "\n"
   ]
  },
  {
   "cell_type": "code",
   "execution_count": 56,
   "metadata": {},
   "outputs": [],
   "source": [
    "nanoSPAD_X=5\n",
    "nanoSPAD_Y=6\n",
    "dwell_time = 200\n",
    "delta_dist = 0.05\n",
    "offset = [118.948,164.443,99.723]\n",
    "velocity=50\n",
    "p=1.05\n",
    "\n",
    "timestamping_duration=int(nanoSPAD_X*nanoSPAD_Y*dwell_time*p*100)+75"
   ]
  },
  {
   "cell_type": "code",
   "execution_count": 61,
   "metadata": {},
   "outputs": [
    {
     "data": {
      "text/plain": [
       "689999"
      ]
     },
     "execution_count": 61,
     "metadata": {},
     "output_type": "execute_result"
    }
   ],
   "source": [
    "timestamping_duration-75000"
   ]
  },
  {
   "cell_type": "code",
   "execution_count": 17,
   "metadata": {},
   "outputs": [
    {
     "data": {
      "text/plain": [
       "[<matplotlib.lines.Line2D at 0xa904708>]"
      ]
     },
     "execution_count": 17,
     "metadata": {},
     "output_type": "execute_result"
    }
   ],
   "source": [
    "plt.plot(np.arange(5))"
   ]
  },
  {
   "cell_type": "code",
   "execution_count": 246,
   "metadata": {},
   "outputs": [],
   "source": [
    "%matplotlib qt\n",
    "from matplotlib.widgets import Button\n",
    "from matplotlib.widgets import CheckButtons"
   ]
  },
  {
   "cell_type": "code",
   "execution_count": 70,
   "metadata": {},
   "outputs": [],
   "source": [
    "\n",
    "   "
   ]
  },
  {
   "cell_type": "code",
   "execution_count": 71,
   "metadata": {},
   "outputs": [],
   "source": [
    "flag=Flag()"
   ]
  },
  {
   "cell_type": "code",
   "execution_count": 76,
   "metadata": {},
   "outputs": [
    {
     "data": {
      "text/plain": [
       "True"
      ]
     },
     "execution_count": 76,
     "metadata": {},
     "output_type": "execute_result"
    }
   ],
   "source": [
    "flag.f"
   ]
  },
  {
   "cell_type": "code",
   "execution_count": 73,
   "metadata": {},
   "outputs": [],
   "source": [
    "flag.stop()"
   ]
  },
  {
   "cell_type": "code",
   "execution_count": 108,
   "metadata": {},
   "outputs": [
    {
     "data": {
      "text/plain": [
       "35"
      ]
     },
     "execution_count": 108,
     "metadata": {},
     "output_type": "execute_result"
    }
   ],
   "source": [
    "I[0]"
   ]
  },
  {
   "cell_type": "code",
   "execution_count": 269,
   "metadata": {},
   "outputs": [
    {
     "name": "stderr",
     "output_type": "stream",
     "text": [
      "C:\\Anaconda3\\lib\\site-packages\\ipykernel_launcher.py:38: MatplotlibDeprecationWarning: Adding an axes using the same arguments as a previous axes currently reuses the earlier instance.  In a future version, a new instance will always be created and returned.  Meanwhile, this warning can be suppressed, and the future behavior ensured, by passing a unique label to each axes instance.\n",
      "C:\\Anaconda3\\lib\\site-packages\\ipykernel_launcher.py:39: MatplotlibDeprecationWarning: Adding an axes using the same arguments as a previous axes currently reuses the earlier instance.  In a future version, a new instance will always be created and returned.  Meanwhile, this warning can be suppressed, and the future behavior ensured, by passing a unique label to each axes instance.\n",
      "Traceback (most recent call last):\n",
      "  File \"C:\\Anaconda3\\lib\\site-packages\\matplotlib\\cbook\\__init__.py\", line 224, in process\n",
      "    func(*args, **kwargs)\n",
      "  File \"C:\\Anaconda3\\lib\\site-packages\\matplotlib\\widgets.py\", line 613, in _clicked\n",
      "    self.set_active(i)\n",
      "  File \"C:\\Anaconda3\\lib\\site-packages\\matplotlib\\widgets.py\", line 645, in set_active\n",
      "    func(self.labels[index].get_text())\n",
      "TypeError: 'NoneType' object is not callable\n"
     ]
    }
   ],
   "source": [
    "%matplotlib qt\n",
    "\n",
    "I = readPhotoncounts()\n",
    "int_time=0.005\n",
    "class Controlers(object):\n",
    "    f = True\n",
    "    ymin=0\n",
    "    ymax=0\n",
    "    def stop(self, event):\n",
    "        self.f=False\n",
    "    def rescale(self,I):\n",
    "        self.ymin=np.min(I)#-0.05*(np.max(I)-np.min(I))\n",
    "        self.ymax=np.max(I)#+0.05*(np.max(I)-np.min(I))\n",
    "        \n",
    "        \n",
    "# You probably won't need this if you're embedding things in a tkinter plot...\n",
    "plt.ion()\n",
    "\n",
    "fig = plt.figure()\n",
    "ax = fig.add_subplot(111)\n",
    "I=I/int_time\n",
    "line1 =ax.imshow(plot_chip(I)) # Returns a tuple of line objects, thus the comma\n",
    "bar=fig.colorbar(line1)\n",
    "\n",
    "C=Controlers()\n",
    "while C.f:\n",
    "    photoncounting(int(int_time*10e8))\n",
    "    I=readPhotoncounts()\n",
    "    C.rescale(I)\n",
    "    M=plot_chip(I)\n",
    "    line1.set_data(M)\n",
    "    norm=matplotlib.colors.Normalize(vmin=C.ymin, vmax=C.ymax)\n",
    "    line1.set_norm(norm)\n",
    "    cbar_ticks = np.linspace(C.ymin, C.ymax, num=10)\n",
    "    bar.set_ticks(cbar_ticks)\n",
    "    fig.canvas.draw()\n",
    "    fig.canvas.flush_events()\n",
    "    axbreak = plt.axes([0.05, 0.2, 0.1, 0.075])\n",
    "    axascale = plt.axes([0.005, 0.8, 0.2, 0.2])\n",
    "    bnbreak = Button(axbreak, 'Break')\n",
    "    ascale=CheckButtons(axascale,labels=[\"Auto scale\"])\n",
    "    ascale.on_clicked(C.rescale(I))\n",
    "    bnbreak.on_clicked(C.stop)\n",
    "%matplotlib inline"
   ]
  },
  {
   "cell_type": "code",
   "execution_count": 239,
   "metadata": {},
   "outputs": [
    {
     "data": {
      "text/plain": [
       "<matplotlib.colors.Normalize at 0x10fbe5c8>"
      ]
     },
     "execution_count": 239,
     "metadata": {},
     "output_type": "execute_result"
    }
   ],
   "source": [
    "norm\n",
    "\n"
   ]
  },
  {
   "cell_type": "code",
   "execution_count": 201,
   "metadata": {},
   "outputs": [
    {
     "data": {
      "text/plain": [
       "0"
      ]
     },
     "execution_count": 201,
     "metadata": {},
     "output_type": "execute_result"
    }
   ],
   "source": [
    "C.ymin"
   ]
  },
  {
   "cell_type": "code",
   "execution_count": 202,
   "metadata": {},
   "outputs": [
    {
     "data": {
      "text/plain": [
       "<matplotlib.image.AxesImage at 0xc82e788>"
      ]
     },
     "execution_count": 202,
     "metadata": {},
     "output_type": "execute_result"
    }
   ],
   "source": [
    "line1\n"
   ]
  },
  {
   "cell_type": "code",
   "execution_count": 138,
   "metadata": {},
   "outputs": [
    {
     "data": {
      "text/plain": [
       "<matplotlib.colorbar.Colorbar at 0xc1014c8>"
      ]
     },
     "execution_count": 138,
     "metadata": {},
     "output_type": "execute_result"
    }
   ],
   "source": [
    "plt.imshow(M)\n",
    "plt.colorbar()"
   ]
  },
  {
   "cell_type": "code",
   "execution_count": 116,
   "metadata": {},
   "outputs": [
    {
     "name": "stderr",
     "output_type": "stream",
     "text": [
      "C:\\Anaconda3\\lib\\site-packages\\ipykernel_launcher.py:31: MatplotlibDeprecationWarning: Adding an axes using the same arguments as a previous axes currently reuses the earlier instance.  In a future version, a new instance will always be created and returned.  Meanwhile, this warning can be suppressed, and the future behavior ensured, by passing a unique label to each axes instance.\n"
     ]
    }
   ],
   "source": [
    "%matplotlib qt\n",
    "x = np.arange(23)\n",
    "y = readPhotoncounts()\n",
    "\n",
    "class Controlers(object):\n",
    "    f = True\n",
    "    ymin=0\n",
    "    ymax=0\n",
    "    def stop(self, event):\n",
    "        self.f=False\n",
    "    def rescale(self,I):\n",
    "        self.ymin=np.min(I)-0.05*(np.max(I)-np.min(I))\n",
    "        self.ymax=np.max(I)+0.05*(np.max(I)-np.min(I))\n",
    "        \n",
    "        \n",
    "# You probably won't need this if you're embedding things in a tkinter plot...\n",
    "plt.ion()\n",
    "\n",
    "fig = plt.figure()\n",
    "ax = fig.add_subplot(111)\n",
    "line1, = ax.plot(x, y, 'ro') # Returns a tuple of line objects, thus the comma\n",
    "C=Controlers()\n",
    "while C.f:\n",
    "    photoncounting(int(0.005*100000000))\n",
    "    I=readPhotoncounts()\n",
    "    C.rescale(I)\n",
    "    ax.set_ylim([C.ymin,C.ymax])\n",
    "    line1.set_ydata(I)\n",
    "    fig.canvas.draw()\n",
    "    fig.canvas.flush_events()\n",
    "    axbreak = plt.axes([0.81, 0.01, 0.1, 0.075])\n",
    "    bnbreak = Button(axbreak, 'Break')\n",
    "    bnbreak.on_clicked(C.stop)\n",
    "%matplotlib inline"
   ]
  },
  {
   "cell_type": "code",
   "execution_count": 31,
   "metadata": {},
   "outputs": [
    {
     "ename": "SyntaxError",
     "evalue": "'break' outside loop (<ipython-input-31-5d29d6bbce00>, line 5)",
     "output_type": "error",
     "traceback": [
      "\u001b[1;36m  File \u001b[1;32m\"<ipython-input-31-5d29d6bbce00>\"\u001b[1;36m, line \u001b[1;32m5\u001b[0m\n\u001b[1;31mSyntaxError\u001b[0m\u001b[1;31m:\u001b[0m 'break' outside loop\n"
     ]
    }
   ],
   "source": []
  },
  {
   "cell_type": "code",
   "execution_count": 19,
   "metadata": {},
   "outputs": [
    {
     "data": {
      "text/plain": [
       "array([ 0,  1,  2,  3,  4,  5,  6,  7,  8,  9, 10, 11, 12, 13, 14, 15, 16,\n",
       "       17, 18, 19, 20, 21, 22])"
      ]
     },
     "execution_count": 19,
     "metadata": {},
     "output_type": "execute_result"
    }
   ],
   "source": []
  },
  {
   "cell_type": "code",
   "execution_count": 18,
   "metadata": {},
   "outputs": [],
   "source": [
    "\n",
    "x = np.linspace(0, 6*np.pi, 100)\n",
    "y = np.sin(x)\n",
    "\n",
    "# You probably won't need this if you're embedding things in a tkinter plot...\n",
    "plt.ion()\n",
    "\n",
    "fig = plt.figure()\n",
    "ax = fig.add_subplot(111)\n",
    "line1, = ax.plot(x, y, 'r-') # Returns a tuple of line objects, thus the comma\n",
    "\n",
    "for phase in np.linspace(0, 10*np.pi, 500):\n",
    "    line1.set_ydata(np.sin(x + phase))\n",
    "    fig.canvas.draw()\n",
    "    fig.canvas.flush_events()"
   ]
  },
  {
   "cell_type": "code",
   "execution_count": 3,
   "metadata": {},
   "outputs": [],
   "source": [
    "import tkinter as tk\n",
    "from tkinter import Button\n",
    "import numpy as np\n",
    "import matplotlib\n",
    "from matplotlib.backends.backend_tkagg import FigureCanvasTkAgg\n",
    "from matplotlib.figure import Figure\n",
    "import matplotlib.pyplot as plt\n",
    "\n",
    "matplotlib.use('TkAgg')\n",
    "\n",
    "def displ_graf(datalst):\n",
    "    ff = plt.figure(figsize=(5.6,4), dpi=100)\n",
    "    xx = ff.add_subplot(1,1,1)\n",
    "    nn = np.arange(len(datalst))\n",
    "    bb = xx.barh(nn, datalst, 0.8)\n",
    "    ff.tight_layout\n",
    "    cc = FigureCanvasTkAgg(ff, master=ww)\n",
    "    cc.draw()\n",
    "    cc.get_tk_widget().pack(side=tk.RIGHT)\n",
    "\n",
    "def graf2():\n",
    "    plt.close('all')\n",
    "    data2 = [64, 58, 12, 91, 49, 32, 70, 23, 35]\n",
    "    displ_graf(data2)\n",
    "\n"
   ]
  },
  {
   "cell_type": "code",
   "execution_count": 4,
   "metadata": {},
   "outputs": [],
   "source": [
    "ww = tk.Tk()\n",
    "ww.geometry('700x400')\n",
    "ww.state('zoomed')\n",
    "butt3 = Button(ww,text=' CHANGE DATA ',command=graf2, height=1,width=15)\n",
    "butt3.place(x=790, y=100)\n",
    "\n",
    "data1 = [31, 41, 59, 26, 53, 58, 97, 93, 23]\n",
    "displ_graf(data1)\n",
    "ww.mainloop()"
   ]
  },
  {
   "cell_type": "code",
   "execution_count": 3,
   "metadata": {},
   "outputs": [],
   "source": [
    "ww = tk.Tk()\n",
    "ww.geometry('700x400')\n",
    "ww.state('zoomed')\n",
    "#butt3 = Button(ww,text=' CHANGE DATA ',command=graf2, height=1,width=15)\n",
    "#butt3.place(x=790, y=100)\n",
    "graf2()\n"
   ]
  },
  {
   "cell_type": "code",
   "execution_count": 1,
   "metadata": {},
   "outputs": [
    {
     "ename": "NameError",
     "evalue": "name 'graf2' is not defined",
     "output_type": "error",
     "traceback": [
      "\u001b[1;31m---------------------------------------------------------------------------\u001b[0m",
      "\u001b[1;31mNameError\u001b[0m                                 Traceback (most recent call last)",
      "\u001b[1;32m<ipython-input-1-3b8faff2abbb>\u001b[0m in \u001b[0;36m<module>\u001b[1;34m\u001b[0m\n\u001b[1;32m----> 1\u001b[1;33m \u001b[0mgraf2\u001b[0m\u001b[1;33m(\u001b[0m\u001b[1;33m)\u001b[0m\u001b[1;33m\u001b[0m\u001b[1;33m\u001b[0m\u001b[0m\n\u001b[0m",
      "\u001b[1;31mNameError\u001b[0m: name 'graf2' is not defined"
     ]
    }
   ],
   "source": [
    "graf2()"
   ]
  },
  {
   "cell_type": "code",
   "execution_count": 5,
   "metadata": {},
   "outputs": [
    {
     "ename": "NameError",
     "evalue": "name 'I' is not defined",
     "output_type": "error",
     "traceback": [
      "\u001b[1;31m---------------------------------------------------------------------------\u001b[0m",
      "\u001b[1;31mNameError\u001b[0m                                 Traceback (most recent call last)",
      "\u001b[1;32m<ipython-input-5-77f40e8f0c84>\u001b[0m in \u001b[0;36m<module>\u001b[1;34m\u001b[0m\n\u001b[0;32m      1\u001b[0m \u001b[0mfig\u001b[0m\u001b[1;33m,\u001b[0m \u001b[0max\u001b[0m \u001b[1;33m=\u001b[0m \u001b[0mplt\u001b[0m\u001b[1;33m.\u001b[0m\u001b[0msubplots\u001b[0m\u001b[1;33m(\u001b[0m\u001b[1;33m)\u001b[0m\u001b[1;33m\u001b[0m\u001b[1;33m\u001b[0m\u001b[0m\n\u001b[1;32m----> 2\u001b[1;33m \u001b[0mln\u001b[0m\u001b[1;33m,\u001b[0m \u001b[1;33m=\u001b[0m \u001b[0max\u001b[0m\u001b[1;33m.\u001b[0m\u001b[0mplot\u001b[0m\u001b[1;33m(\u001b[0m\u001b[0mI\u001b[0m\u001b[1;33m,\u001b[0m\u001b[1;34m'o'\u001b[0m\u001b[1;33m)\u001b[0m\u001b[1;33m\u001b[0m\u001b[1;33m\u001b[0m\u001b[0m\n\u001b[0m\u001b[0;32m      3\u001b[0m \u001b[0mln\u001b[0m\u001b[1;33m.\u001b[0m\u001b[0mset_color\u001b[0m\u001b[1;33m(\u001b[0m\u001b[1;34m'orange'\u001b[0m\u001b[1;33m)\u001b[0m\u001b[1;33m\u001b[0m\u001b[1;33m\u001b[0m\u001b[0m\n",
      "\u001b[1;31mNameError\u001b[0m: name 'I' is not defined"
     ]
    }
   ],
   "source": [
    "fig, ax = plt.subplots()\n",
    "ln, = ax.plot(I,'o')\n",
    "ln.set_color('orange')\n"
   ]
  },
  {
   "cell_type": "code",
   "execution_count": 211,
   "metadata": {},
   "outputs": [],
   "source": [
    "ln, = ax.plot(range(5))"
   ]
  },
  {
   "cell_type": "code",
   "execution_count": 212,
   "metadata": {},
   "outputs": [],
   "source": [
    "ln.set_color('orange')"
   ]
  },
  {
   "cell_type": "code",
   "execution_count": 213,
   "metadata": {},
   "outputs": [
    {
     "ename": "AttributeError",
     "evalue": "'Figure' object has no attribute 'plot'",
     "output_type": "error",
     "traceback": [
      "\u001b[1;31m---------------------------------------------------------------------------\u001b[0m",
      "\u001b[1;31mAttributeError\u001b[0m                            Traceback (most recent call last)",
      "\u001b[1;32m<ipython-input-213-98e6ab95d67f>\u001b[0m in \u001b[0;36m<module>\u001b[1;34m\u001b[0m\n\u001b[1;32m----> 1\u001b[1;33m \u001b[0mfig\u001b[0m\u001b[1;33m.\u001b[0m\u001b[0mplot\u001b[0m\u001b[1;33m(\u001b[0m\u001b[0mI\u001b[0m\u001b[1;33m)\u001b[0m\u001b[1;33m\u001b[0m\u001b[1;33m\u001b[0m\u001b[0m\n\u001b[0m",
      "\u001b[1;31mAttributeError\u001b[0m: 'Figure' object has no attribute 'plot'"
     ]
    }
   ],
   "source": [
    "fig.plot(I)"
   ]
  },
  {
   "cell_type": "code",
   "execution_count": null,
   "metadata": {},
   "outputs": [],
   "source": []
  },
  {
   "cell_type": "code",
   "execution_count": 184,
   "metadata": {},
   "outputs": [
    {
     "data": {
      "text/plain": [
       "[<matplotlib.lines.Line2D at 0x8a5e3c8>]"
      ]
     },
     "execution_count": 184,
     "metadata": {},
     "output_type": "execute_result"
    },
    {
     "data": {
      "image/png": "[encoded data removed]",
      "text/plain": [
       "<Figure size 432x288 with 1 Axes>"
      ]
     },
     "metadata": {
      "needs_background": "light"
     },
     "output_type": "display_data"
    }
   ],
   "source": [
    "plt.plot(d.sum(axis=0),'o')"
   ]
  },
  {
   "cell_type": "code",
   "execution_count": null,
   "metadata": {},
   "outputs": [],
   "source": []
  },
  {
   "cell_type": "code",
   "execution_count": 119,
   "metadata": {},
   "outputs": [
    {
     "data": {
      "text/plain": [
       "2"
      ]
     },
     "execution_count": 119,
     "metadata": {},
     "output_type": "execute_result"
    }
   ],
   "source": [
    "d=np.fromfile('.\\SPAD_photocounting\\QOLcounts4',dtype =np.uint8)\n",
    "d=d.reshape(4,np.shape(d)[0]//4)\n",
    "d[3,3]"
   ]
  },
  {
   "cell_type": "code",
   "execution_count": 133,
   "metadata": {},
   "outputs": [
    {
     "data": {
      "text/plain": [
       "33554432"
      ]
     },
     "execution_count": 133,
     "metadata": {},
     "output_type": "execute_result"
    }
   ],
   "source": [
    "d=np.fromfile('.\\SPAD_photocounting\\QOLcounts4',dtype =np.uint8)\n",
    "d=d.reshape(4,np.shape(d)[0]//4)\n",
    "d=np.uint64(d)\n",
    "d[1,:]=d[1,:]*(2**8)\n",
    "d[2,:]=d[2,:]*(2**16)\n",
    "d[3,:]=d[3,:]*(2**24)\n",
    "d[3,3]"
   ]
  },
  {
   "cell_type": "code",
   "execution_count": 156,
   "metadata": {},
   "outputs": [],
   "source": []
  },
  {
   "cell_type": "code",
   "execution_count": 160,
   "metadata": {},
   "outputs": [],
   "source": [
    "photoncounting(100000)"
   ]
  },
  {
   "cell_type": "code",
   "execution_count": 112,
   "metadata": {},
   "outputs": [
    {
     "data": {
      "text/plain": [
       "array([[0, 0, 0, 0, 0, 0, 0, 0, 0, 0, 0, 0, 0, 0, 0, 0, 0, 0, 0, 0, 1, 0,\n",
       "        0],\n",
       "       [0, 0, 0, 0, 0, 0, 0, 0, 0, 0, 0, 0, 0, 0, 0, 0, 0, 0, 0, 0, 0, 0,\n",
       "        0],\n",
       "       [0, 0, 0, 0, 0, 0, 0, 0, 0, 0, 0, 0, 0, 0, 0, 0, 0, 0, 0, 0, 0, 0,\n",
       "        0],\n",
       "       [0, 0, 0, 0, 0, 0, 0, 0, 0, 0, 0, 0, 0, 0, 0, 0, 0, 0, 0, 0, 0, 0,\n",
       "        0]], dtype=uint8)"
      ]
     },
     "execution_count": 112,
     "metadata": {},
     "output_type": "execute_result"
    }
   ],
   "source": []
  },
  {
   "cell_type": "code",
   "execution_count": 58,
   "metadata": {},
   "outputs": [
    {
     "data": {
      "text/plain": [
       "5.55075"
      ]
     },
     "execution_count": 58,
     "metadata": {},
     "output_type": "execute_result"
    }
   ],
   "source": [
    "(timestamping_duration-75000)/100000\n"
   ]
  },
  {
   "cell_type": "code",
   "execution_count": 18,
   "metadata": {},
   "outputs": [],
   "source": [
    "move_to_point(gcs,[42.666,98.461,106.195])"
   ]
  },
  {
   "cell_type": "code",
   "execution_count": 22,
   "metadata": {},
   "outputs": [],
   "source": [
    "shutter_serial.close()"
   ]
  },
  {
   "cell_type": "code",
   "execution_count": 21,
   "metadata": {},
   "outputs": [],
   "source": [
    "gcs.CloseConnection()"
   ]
  },
  {
   "cell_type": "code",
   "execution_count": 10,
   "metadata": {},
   "outputs": [],
   "source": [
    "vel =0.1*1e6/(2*50)\n",
    "gcs.VEL1([1,2,3],[vel,vel,vel])"
   ]
  },
  {
   "cell_type": "code",
   "execution_count": 11,
   "metadata": {},
   "outputs": [],
   "source": [
    "def point_by_point_snake(gcs,x_points,y_points,dwell_time,\n",
    "                       delta_dist,offset,rep = 10 ,trigger_channel = 1):\n",
    "    \"\"\"\n",
    "        Move stage in 2D on rectangular area and stop on every point for set dwell time.\n",
    "        Trigger on selected channel send signal when stage is on target\n",
    "        Parameters:\n",
    "        gcs : piezo stage object\n",
    "        x_points,y_points : Number of measuring points in both axis (int, minimum 2)\n",
    "        dwell_time : stop time for one point in seconds (float, minimum 0.01s)\n",
    "        delta_dist : distance between two neighbor points in micrometers (float, minimum 0.01um)\n",
    "        offset : start position of the stage ([float,float,float], range[0,200])\n",
    "        rep : number of cycles of the movement (int, 0 means infinity, )\n",
    "        trigger_channel : output trigger channel (int, in [1,2,3])\n",
    "    \"\"\"\n",
    "    \n",
    "    gcs.CTO1(trigger_channel,[2,3],[1,2])\n",
    "    gcs.MOV1([1,2,3],offset)\n",
    "    time.sleep(max(dwell_time-0.01,0))\n",
    "    gcs.CTO1(trigger_channel,[2,3],[1,2])\n",
    "    print(0,0)\n",
    "    x_pos=np.arange(offset[0],x_points*delta_dist,delta_dist)\n",
    "    y_pos=np.arange(offset[1],y_points*delta_dist,delta_dist)\n",
    "    for a in range(rep):\n",
    "        try:\n",
    "            for i in range(int(x_points/2)):\n",
    "                for j in range(int(y_points)-1):\n",
    "                    gcs.MOV1([1,2,3],[offset[0]+delta_dist*2*i,offset[1]+delta_dist*(j+1),offset[2]])\n",
    "                    time.sleep(max(dwell_time-0.01,0))\n",
    "                    gcs.CTO1(trigger_channel,[2,3],[1,2])\n",
    "                    print(2*i,j+1)\n",
    "                gcs.CTO1(trigger_channel,[2,3],[2,2])\n",
    "                gcs.MOV1([1,2,3],[offset[0]+delta_dist*(2*i+1),offset[1]+delta_dist*(j+1),offset[2]])\n",
    "                time.sleep(max(dwell_time-0.01,0))\n",
    "                gcs.CTO1(trigger_channel,[2,3],[1,2])\n",
    "                print((2*i+1),j+1)\n",
    "                for j in range(int(y_points)-1):\n",
    "                    gcs.MOV1([1,2,3],[offset[0]+delta_dist*(2*i+1),offset[1]+delta_dist*(y_points-j-2),offset[2]])\n",
    "                    time.sleep(max(dwell_time-0.01,0))\n",
    "                    gcs.CTO1(trigger_channel,[2,3],[1,2])    \n",
    "                    print(2*i+1,y_points-j-2)\n",
    "                gcs.CTO1(trigger_channel,[2,3],[1,2])\n",
    "                gcs.MOV1([1,2,3],[offset[0]+delta_dist*(2*i+2),offset[1],offset[2]])\n",
    "                time.sleep(max(dwell_time-0.01,0))\n",
    "                gcs.CTO1(trigger_channel,[2,3],[1,2])\n",
    "                print(2*i+2,0)\n",
    "        except KeyboardInterrupt:\n",
    "            break"
   ]
  },
  {
   "cell_type": "markdown",
   "metadata": {},
   "source": [
    "##Correctting\n"
   ]
  },
  {
   "cell_type": "code",
   "execution_count": 8,
   "metadata": {},
   "outputs": [],
   "source": [
    "def point_by_point_snake_2(gcs,x_points,y_points,dwell_time,\n",
    "                       delta_dist,offset,rep = 10):\n",
    "    \"\"\"\n",
    "        V1: Using trigger mode 0\n",
    "        Move stage in 2D on rectangular area and stop on every point for set dwell time.\n",
    "        Trigger signals reresent new point/line/frame(channels 1/2/3  respectively)\n",
    "        \n",
    "        Parameters:\n",
    "        gcs : piezo stage object\n",
    "        x_points,y_points : Number of measuring points in both axis (int, minimum 2)\n",
    "        dwell_time : stop time for one point in seconds (float, minimum 0.01s)\n",
    "        delta_dist : distance between two neighbor points in micrometers (float, minimum 0.01um)\n",
    "        offset : start position of the stage ([float,float,float], range[0,200])\n",
    "        rep : number of cycles of the movement (int)\n",
    "    \"\"\"\n",
    "    #Important parameters\n",
    "    half = dwell_time *1/2\n",
    "    #Setting velocity of the piezo (required to be low enough for trigger step size)\n",
    "    vel =delta_dist*1e6/(25)\n",
    "    gcs.VEL1([1,2,3],[vel,vel,vel])\n",
    "    #Snake start \n",
    "    start =time.time()\n",
    "    #Set in point nerby starting position(for trigger)\n",
    "    gcs.MOV1([1,2,3],[offset[0]-delta_dist/4.,offset[1]-delta_dist/4.,offset[2]--delta_dist/4.])\n",
    "    #Set triggers\n",
    "    gcs.CTO1(1,[2,3,1],[1,0,delta_dist])\n",
    "    gcs.CTO1(2,[2,3,1],[2,0,delta_dist])\n",
    "    gcs.CTO1(3,[2,3,1],[3,0,delta_dist])\n",
    "\n",
    "    gcs.MOV1([1,2,3],[offset[0]-delta_dist/2.,offset[1]-delta_dist/2.,offset[2]-delta_dist/4.])\n",
    "    t1=time.time()\n",
    "    while (time.time()-t1<0.01):\n",
    "        continue \n",
    "    for a in range(rep):\n",
    "        try:\n",
    "            #Move to initial point\n",
    "            gcs.MOV1([1,2,3],offset)\n",
    "            t1=time.time()\n",
    "            while (time.time()-t1<dwell_time):\n",
    "                continue\n",
    "            tnow=time.time()\n",
    "            #move to point between in purpose of trigger mode and stay for 10ms\n",
    "            gcs.MOV1([1,2,3],[offset[0],offset[1]+half,offset[2]])\n",
    "            t1=time.time()\n",
    "            while (time.time()-t1<0.01):\n",
    "                continue           \n",
    "            for i in range(int(x_points/2)):\n",
    "                for j in range(int(y_points)-1):\n",
    "                    gcs.MOV1([1,2,3],[offset[0]+delta_dist*2*i,offset[1]+delta_dist*(j+1),offset[2]])\n",
    "                    t1=time.time()\n",
    "                    while (time.time()-t1<dwell_time):\n",
    "                        continue                   \n",
    "                    print(2*i,j+1,time.time()-start,time.time()-tnow,max(dwell_time-0.01,0))\n",
    "                    tnow= time.time()\n",
    "                    if j!=y_points-2:\n",
    "                        \n",
    "                        gcs.MOV1([1,2,3],[offset[0]+delta_dist*2*i,offset[1]+delta_dist*(j+1)+half,offset[2]])\n",
    "                        t1=time.time()\n",
    "                        while (time.time()-t1<0.01):\n",
    "                            continue \n",
    "                gcs.MOV1([1,2,3],[offset[0]+delta_dist*2*i+half,offset[1]+delta_dist*(y_points-1)+half,offset[2]])\n",
    "                t1=time.time()\n",
    "                while (time.time()-t1<0.01):\n",
    "                    continue                             \n",
    "                gcs.MOV1([1,2,3],[offset[0]+delta_dist*(2*i+1),offset[1]+delta_dist*(y_points-1),offset[2]])\n",
    "                t1=time.time()\n",
    "                while (time.time()-t1<dwell_time):\n",
    "                    continue  \n",
    "                print((2*i+1),j+1,time.time()-start,time.time()-tnow,max(dwell_time-0.01,0))\n",
    "                tnow= time.time()\n",
    "                \n",
    "                \n",
    "                for j in range(int(y_points)-1):\n",
    "                    \n",
    "                    gcs.MOV1([1,2,3],[offset[0]+delta_dist*(2*i+1),offset[1]+delta_dist*(y_points-j-2),offset[2]])\n",
    "                    t1=time.time()\n",
    "                    while (time.time()-t1<dwell_time):\n",
    "                        continue                  \n",
    "                    print(2*i+1,y_points-j-2,time.time()-start,time.time()-tnow,max(dwell_time-0.01,0))\n",
    "                    tnow= time.time()\n",
    "                    if j!=y_points-2:\n",
    "                        \n",
    "                        gcs.MOV1([1,2,3],[offset[0]+delta_dist*(2*i+1),offset[1]+delta_dist*(j+1)-half,offset[2]])\n",
    "                        t1=time.time()\n",
    "                        while (time.time()-t1<0.01):\n",
    "                            continue\n",
    "\n",
    "                if i==int(x_points/2)-1:\n",
    "                    gcs.MOV1([1,2,3],[offset[0]+delta_dist*2*i+half,offset[1]+delta_dist*(y_points-1)-half,offset[2]])\n",
    "                    t1=time.time()\n",
    "                    while (time.time()-t1<0.01):\n",
    "                        continue\n",
    "                        \n",
    "                    gcs.MOV1([1,2,3],[offset[0]+delta_dist*(2*i+2),offset[1],offset[2]])\n",
    "                    t1=time.time()\n",
    "                    \n",
    "                    while (time.time()-t1<dwell_time):\n",
    "                        continue  \n",
    "                    print((2*i+1),j+1,time.time()-start,time.time()-tnow,max(dwell_time-0.01,0))\n",
    "                    tnow= time.time()\n",
    "                else:\n",
    "                    gcs.MOV1([1,2,3],[offset[0]-half,offset[1]-half,offset[2]-half])\n",
    "                    t1=time.time()\n",
    "                    while (time.time()-t1<0.01):\n",
    "                        continue \n",
    "        except KeyboardInterrupt:\n",
    "            break\n",
    "\n",
    "def point_by_point_snake_3(gcs,y_points,x_points,dwell_time,\n",
    "                       delta_dist,offset,rep = 10 ,velocity=50):\n",
    "    \"\"\"\n",
    "        V3 using trigger mode 2\n",
    "        Move stage in 2D on rectangular area and stop on every point for set dwell time.\n",
    "        Trigger on selected channel send signal when stage is on target\n",
    "        Parameters:\n",
    "        gcs : piezo stage object\n",
    "        x_points,y_points : Number of measuring points in both axis (int, minimum 2)\n",
    "        dwell_time : stop time for one point in seconds (float, minimum 0.01s)\n",
    "        delta_dist : distance between two neighbor points in micrometers (float, minimum 0.01um)\n",
    "        offset : start position of the stage ([float,float,float], range[0,200])\n",
    "       velocity: velocity of the stage\n",
    "       \n",
    "       Output  is +-2% of registered time and may depend on velocity\n",
    "    \"\"\"\n",
    "    wait_time =dwell_time +delta_dist*1.0/(velocity*1.2)+0.015\n",
    "    print(wait_time)\n",
    "    gcs.VEL1([1,2,3],[10000,10000,10000])\n",
    "    gcs.MOV1([1,2,3],[offset[0]-delta_dist,offset[1],offset[2]-delta_dist])\n",
    "    input('Press enter to start')\n",
    "    gcs.VEL1([1,2,3],[velocity,velocity,velocity])\n",
    "    start =time.time()\n",
    "    gcs.CTO1(1,[2,3],[1,2])\n",
    "    gcs.CTO1(2,[2,3],[2,2])\n",
    "    gcs.CTO1(3,[2,3],[3,2])\n",
    "\n",
    "    t1=time.time()\n",
    "    print(0,0,t1-start)\n",
    "    tnow= time.time()\n",
    "    for a in range(rep):\n",
    "        try:\n",
    "            #Move to initial point\n",
    "            gcs.MOV1([1,2,3],offset)\n",
    "            t1=time.time()\n",
    "            while (time.time()-t1<wait_time):\n",
    "                continue\n",
    "            tnow=time.time() \n",
    "            print(0,0,time.time()-start,time.time()-tnow,max(dwell_time-0.01,0))\n",
    "            for i in range(int(x_points/2)):\n",
    "                \n",
    "                for j in range(int(y_points)-1):\n",
    "                    gcs.MOV1([1,2,3],[offset[0]+delta_dist*2*i,offset[1]+delta_dist*(j+1),offset[2]])\n",
    "\n",
    "                    t1=time.time()\n",
    "                    while (time.time()-t1<wait_time):\n",
    "                        continue\n",
    "                    tnow=time.time()\n",
    "                    print(2*i,j+1)\n",
    "                gcs.MOV1([1,2,3],[offset[0]+delta_dist*(2*i+1),offset[1]+delta_dist*(j+1),offset[2]])\n",
    "                t1=time.time()\n",
    "                while (time.time()-t1<wait_time):\n",
    "                    continue\n",
    "                tnow=time.time() \n",
    "                print(2*i+1,j+1)\n",
    "                for j in range(int(y_points)-1):\n",
    "                    gcs.MOV1([1,2,3],[offset[0]+delta_dist*(2*i+1),offset[1]+delta_dist*(y_points-j-2),offset[2]])\n",
    "                    t1=time.time()\n",
    "                    while (time.time()-t1<wait_time):\n",
    "                        continue\n",
    "                    tnow=time.time() \n",
    "                    print(2*i+1,y_points-j-2)\n",
    "                if i <int(x_points/2)-1:\n",
    "                    gcs.MOV1([1,2,3],[offset[0]+delta_dist*(2*i+2),offset[1],offset[2]])\n",
    "                    t1=time.time()\n",
    "                    while (time.time()-t1<wait_time):\n",
    "                        continue\n",
    "                    tnow=time.time()\n",
    "                    print(2*i+2,0)\n",
    "        except KeyboardInterrupt:\n",
    "            break\n",
    "    gcs.MOV1([1,2,3],[offset[0]+delta_dist,offset[1]+delta_dist*y_points,offset[2]])\n",
    "                        \n",
    "        "
   ]
  },
  {
   "cell_type": "code",
   "execution_count": null,
   "metadata": {},
   "outputs": [],
   "source": []
  }
 ],
 "metadata": {
  "kernelspec": {
   "display_name": "Python 3",
   "language": "python",
   "name": "python3"
  },
  "language_info": {
   "codemirror_mode": {
    "name": "ipython",
    "version": 3
   },
   "file_extension": ".py",
   "mimetype": "text/x-python",
   "name": "python",
   "nbconvert_exporter": "python",
   "pygments_lexer": "ipython3",
   "version": "3.7.8"
  }
 },
 "nbformat": 4,
 "nbformat_minor": 2
}

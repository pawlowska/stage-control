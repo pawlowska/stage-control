{
 "cells": [
  {
   "cell_type": "code",
   "execution_count": 158,
   "metadata": {
    "scrolled": true
   },
   "outputs": [
    {
     "name": "stdout",
     "output_type": "stream",
     "text": [
      "(8, 1200000)\n",
      "[[0 0 0 0 0 1 0 0 0 0]\n",
      " [0 1 0 0 0 1 0 0 0 1]\n",
      " [0 1 0 0 0 0 0 0 1 1]\n",
      " [1 1 0 0 0 1 0 0 1 0]\n",
      " [1 0 0 0 1 0 0 0 1 0]\n",
      " [1 1 0 0 0 1 0 0 0 0]\n",
      " [1 1 0 0 1 0 0 0 1 1]\n",
      " [1 0 0 1 0 1 0 1 1 1]]\n",
      "[[0 0 0 1 1 1 1 1]\n",
      " [0 1 1 1 0 1 1 0]\n",
      " [0 0 0 0 0 0 0 0]\n",
      " [0 0 0 0 0 0 0 1]\n",
      " [0 0 0 0 1 0 1 0]\n",
      " [1 1 0 1 0 1 0 1]\n",
      " [0 0 0 0 0 0 0 0]\n",
      " [0 0 0 0 0 0 0 1]\n",
      " [0 0 1 1 1 0 1 1]\n",
      " [0 1 1 0 0 0 1 1]]\n",
      "[[0 0 0 1 1 1 1 1 0 1 1 1 0 1 1 0 0 0 0 0 0 0 0 0 0 0 0 0 0 0 0 1]\n",
      " [0 0 0 0 1 0 1 0 1 1 0 1 0 1 0 1 0 0 0 0 0 0 0 0 0 0 0 0 0 0 0 1]\n",
      " [0 0 1 1 1 0 1 1 0 1 1 0 0 0 1 1 0 0 0 0 0 0 0 0 0 0 0 0 0 0 0 1]\n",
      " [0 1 1 0 0 1 1 1 0 0 0 1 0 0 1 1 0 0 0 0 0 0 0 0 0 0 0 0 0 0 0 1]\n",
      " [1 0 0 1 0 0 1 1 1 1 0 1 0 0 1 1 0 0 0 0 0 0 0 0 0 0 1 0 0 1 0 1]\n",
      " [1 0 0 1 0 1 0 0 1 1 1 1 0 0 1 1 0 0 0 0 0 0 0 0 0 0 0 0 0 0 0 1]\n",
      " [0 1 1 1 0 0 0 0 0 0 1 0 1 0 1 1 0 0 0 0 0 0 0 0 0 0 0 0 0 0 0 1]\n",
      " [1 1 1 0 0 1 0 1 0 1 0 1 1 1 1 0 1 0 0 0 0 0 0 0 0 0 0 0 0 0 0 1]\n",
      " [0 0 0 1 0 0 0 0 0 0 0 0 0 1 0 1 1 0 0 0 0 0 0 0 0 0 0 0 0 0 0 1]\n",
      " [0 1 0 0 1 1 1 1 1 1 0 0 0 0 1 1 1 0 0 0 0 0 0 0 0 0 0 0 0 0 0 1]]\n",
      "300000\n"
     ]
    }
   ],
   "source": [
    "import numpy as np\n",
    "import matplotlib.pyplot as plt\n",
    "\n",
    "data_folder = \"./2020.01.27/\"\n",
    "filename = \"dupa_test_12\"\n",
    "a=300000\n",
    "#fh = open(data_folder+filename, \"rb\")\n",
    "fh =np.fromfile(data_folder+filename,dtype =np.uint8)\n",
    "#ch = fh.read()\n",
    "arr = np.unpackbits(fh)\n",
    "arr2 = arr.reshape(4*a, 8)\n",
    "arr3 = np.array(arr2.T)\n",
    "print(arr3.shape)\n",
    "arr4 = np.array(np.flipud(arr3))\n",
    "arr5 = np.array(arr4.reshape(32, a))\n",
    "print(arr4[:,:10])\n",
    "\n",
    "\n",
    "arr2a = arr.reshape(4*a, 8)\n",
    "arr4a = np.array(np.fliplr(arr2a))\n",
    "print(arr4a[:10,:])\n",
    "arr5a = np.array(arr4a.reshape(a, 32))\n",
    "print(arr5a[:10,:])\n",
    "\n",
    "print(arr5a[:,31].sum())\n",
    "arr6a = np.array(np.fliplr(arr5a))\n",
    "addr = np.array(np.fliplr(arr6a[:,1:6]))\n",
    "timestamp = np.array(np.fliplr(arr6a[:,6:]))\n",
    "\n",
    "val_addr = np.packbits(addr,axis=1,bitorder='little')\n",
    "val_timestamp = np.packbits(timestamp,axis=1,bitorder='little')\n",
    "val_timestamps = val_timestamp[:,0]+2**8*val_timestamp[:,1]+2**16*val_timestamp[:,2]+\\\n",
    "                2**24*val_timestamp[:,3]"
   ]
  },
  {
   "cell_type": "code",
   "execution_count": 172,
   "metadata": {
    "scrolled": true
   },
   "outputs": [
    {
     "name": "stdout",
     "output_type": "stream",
     "text": [
      "31\n",
      "31\n",
      "(array([ 0,  1,  2,  3,  4,  5,  6,  7,  8,  9, 10, 11, 12, 13, 14, 15, 16,\n",
      "       17, 18, 19, 20, 21, 22, 30, 31], dtype=uint8), array([258954,   1808,   1518,   1374,   1313,   2452,   6225,   1756,\n",
      "         1971,   1479,   1517,   1650,   1569,   1604,   1344,   1818,\n",
      "         1661,   1455,   1344,   1530,   1868,   1850,   1830,    100,\n",
      "           10], dtype=int64))\n"
     ]
    },
    {
     "data": {
      "image/png": "[encoded data removed]",
      "text/plain": [
       "<Figure size 432x288 with 1 Axes>"
      ]
     },
     "metadata": {
      "needs_background": "light"
     },
     "output_type": "display_data"
    }
   ],
   "source": [
    "print(np.amax(val_addr))\n",
    "print(val_addr.max())\n",
    "\n",
    "plt.hist(val_addr,bins =31)\n",
    "plt.plot()\n",
    "print(np.unique(val_addr, return_counts=True))"
   ]
  },
  {
   "cell_type": "code",
   "execution_count": 177,
   "metadata": {
    "scrolled": true
   },
   "outputs": [
    {
     "data": {
      "text/plain": [
       "[<matplotlib.lines.Line2D at 0x439ac940>]"
      ]
     },
     "execution_count": 177,
     "metadata": {},
     "output_type": "execute_result"
    },
    {
     "data": {
      "image/png": "[encoded data removed]",
      "text/plain": [
       "<Figure size 432x288 with 1 Axes>"
      ]
     },
     "metadata": {
      "needs_background": "light"
     },
     "output_type": "display_data"
    }
   ],
   "source": [
    "plt.plot(val_timestamps[20000:40000])"
   ]
  },
  {
   "cell_type": "code",
   "execution_count": 153,
   "metadata": {},
   "outputs": [
    {
     "name": "stdout",
     "output_type": "stream",
     "text": [
      "[    0   889  1871  2772  3749  4765  5776  6743  7720  8691  9643 10662]\n",
      "[    0   894  1924  2889  3902  4855  5839  6832  7825  8812  9806 10761]\n",
      "[    0   994  1990  2960  3942  4927  5931  6886  7866  8836  9763 10702]\n",
      "[    0   908  1853  2891  3871  4829  5764  6774  7765  8833  9734 10698]\n",
      "[    0  1009  2061  3090  4100  5084  6048  7053  8045  8978  9948 10914]\n",
      "[    0   987  1992  3009  3973  4899  5895  6798  7720  8668  9605 10571]\n",
      "[    0   960  1916  2875  3853  4792  5767  6725  7657  8632  9557 10553]\n",
      "[    0   965  1952  2900  3882  4866  5825  6824  7777  8760  9738 10698]\n",
      "[    0   963  1986  2969  3945  4949  5907  6878  7789  8829  9805 10838]\n",
      "[     0    913   1885   2944   3923   4863   5813   6756   7805   8742\n",
      "   9770 180463]\n"
     ]
    }
   ],
   "source": [
    "x_points = 10\n",
    "y_points = 11\n",
    "channels = 23\n",
    "hist = np.zeros((x_points,y_points,channels)) \n",
    "lines = np.where(val_addr==31)[0]\n",
    "lines =np.concatenate((lines,[300000]))\n",
    "for i in range(lines.shape[0]-1):\n",
    "    part = val_addr[lines[i]:lines[i+1]]\n",
    "    pixels = np.concatenate(([0],np.where(part==30)[0],[lines[i+1]-lines[i]]))\n",
    "    print(pixels)\n",
    "    #for j in range(lines.shape[0]-1):\n",
    "    "
   ]
  },
  {
   "cell_type": "code",
   "execution_count": 181,
   "metadata": {},
   "outputs": [
    {
     "name": "stdout",
     "output_type": "stream",
     "text": [
      "[ 23140  33802  44563  55265  65963  76877  87448  98001 108699 119537\n",
      " 300000]\n",
      "[28390460    16384 28405148 28413355 28415404 28419491] [35566280 35566301 35567110    32768 35590785 35594669]\n"
     ]
    }
   ],
   "source": [
    "print(lines)\n",
    "print(val_timestamps[44562:44568],val_timestamps[65960:65966])"
   ]
  },
  {
   "cell_type": "code",
   "execution_count": null,
   "metadata": {},
   "outputs": [],
   "source": []
  }
 ],
 "metadata": {
  "kernelspec": {
   "display_name": "Python 3",
   "language": "python",
   "name": "python3"
  },
  "language_info": {
   "codemirror_mode": {
    "name": "ipython",
    "version": 3
   },
   "file_extension": ".py",
   "mimetype": "text/x-python",
   "name": "python",
   "nbconvert_exporter": "python",
   "pygments_lexer": "ipython3",
   "version": "3.7.0"
  }
 },
 "nbformat": 4,
 "nbformat_minor": 2
}

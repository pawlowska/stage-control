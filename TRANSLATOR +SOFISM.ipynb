{
 "cells": [
  {
   "cell_type": "code",
   "execution_count": 1,
   "metadata": {},
   "outputs": [],
   "source": [
    "import numpy as np\n",
    "import matplotlib.pyplot as plt\n",
    "import scipy as sp\n",
    "from scipy.interpolate import interp1d, interp2d\n",
    "import sofi\n",
    "import sofiism as si\n",
    "from time import time\n",
    "from scipy import signal\n",
    "import pandas as pd\n",
    "from gaussfitter_as import gaussfit\n",
    "import cv2\n",
    "import gaussfitter as gs\n",
    "from scipy.optimize import curve_fit\n",
    "import joblib\n",
    "import control as ctr\n",
    "import time"
   ]
  },
  {
   "cell_type": "code",
   "execution_count": 4,
   "metadata": {},
   "outputs": [],
   "source": [
    "\n",
    "## Change trigger ID in later function\n",
    "def upload_file(data_folder, filename):\n",
    "    \"\"\"\n",
    "    upload SPAD binary file and retrieve timestamps and addreses of each tag in two separate tables \n",
    "    \"\"\"\n",
    "    global a\n",
    "    fh =np.fromfile(data_folder+filename,dtype =np.uint8)\n",
    "    fh1= np.array(fh.reshape(-1,4))\n",
    "    print(fh1[:8,:])\n",
    "    fh2 = np.array(np.fliplr(fh1))\n",
    "    fh3 = np.unpackbits(fh2[1:-1,:]).reshape(-1,32)\n",
    "\n",
    "    addr = np.array(np.fliplr(fh3[:,0:6]))\n",
    "    timestamp = np.array(np.fliplr(fh3[:,6:]))\n",
    "    val_addr = np.packbits(addr,axis=1,bitorder='little')-32\n",
    "    val_timestamp = np.packbits(timestamp,axis=1,bitorder='little')\n",
    "    val_timestamps = val_timestamp[:,0]+2**8*val_timestamp[:,1]+2**16*val_timestamp[:,2]+\\\n",
    "                    2**24*val_timestamp[:,3]\n",
    "    return(val_addr,val_timestamps)\n",
    "def detector_intensity(val_addr):\n",
    "    \"\"\"\n",
    "    Check intensity of each detector and triggers(position 23 and 24 in return table)\n",
    "    \"\"\"\n",
    "    \n",
    "    return(np.unique(val_addr, return_counts=True)[1])\n",
    "\n",
    "\n",
    "def time_unwrap(val_timestamps):\n",
    "    \"\"\"\n",
    "    Unwrap timestamps into one nondecresing series \n",
    "    \"\"\"\n",
    "    a=val_timestamps.shape[0]\n",
    "    val_time =val_timestamps.astype('int64')\n",
    "    for i in range(a-1):\n",
    "        if val_time[i+1]-val_time[i]<-1*2**25:\n",
    "            val_time[i+1:]+=2**26\n",
    "\n",
    "    return(val_time)\n",
    "def histogram_creation(val_addr,val_time,time_range):\n",
    "    \"\"\"\n",
    "    Creates g2 correlation histogram\n",
    "    middle row(position time_range)-tags in the same time\n",
    "    time_range-maximum registered tag difference\n",
    "    \n",
    "    \"\"\"\n",
    "    a=val_time.shape[0]\n",
    "    hist = np.zeros((23,23,2*time_range+1))\n",
    "    for i in range(a-1):\n",
    "        b=1    \n",
    "        diff = val_time[i+b]-val_time[i]\n",
    "\n",
    "        while diff<=time_range and diff>=0:\n",
    "            if val_addr[i]<25 and val_addr[i+b]<25:\n",
    "                hist[val_addr[i],val_addr[i+b],time_range+diff]+=1\n",
    "                hist[val_addr[i+b],val_addr[i],time_range-diff]+=1\n",
    "            b+=1\n",
    "            try:\n",
    "                diff = val_time[i+b]-val_time[i]\n",
    "            except:\n",
    "                break\n",
    "    return(hist)\n",
    "def calc_correction(mode='create', channels=23,hist=[],counts_detec=[],filename=''):\n",
    "    \"\"\"\n",
    "    mode create - calculate correction parameters and save it in pkl file\n",
    "    mode upload - upload correction parameters from pkl file\n",
    "    \"\"\"\n",
    "    if mode =='create':\n",
    "        correction = np. zeros((channels,channels))\n",
    "        correction_extra  = np. zeros((18,3))\n",
    "        for i in range(channels):\n",
    "            for j in range(channels):\n",
    "                if i!=j:\n",
    "                    correction[i,j] =(hist[i,j,100]- (hist[i,j,180]/2.+hist[i,j,20]/2.))/(1.*(counts_detec[i]+counts_detec[j]))\n",
    "                if i+5==j:\n",
    "\n",
    "                    correction_extra [i,0] =(hist[i,j,101]- (hist[i,j,181]/2.+hist[i,j,21]/2.))/(1.*(counts_detec[i]))\n",
    "                    correction_extra [i,1] =(hist[i,j,102]- (hist[i,j,182]/2.+hist[i,j,22]/2.))/(1.*(counts_detec[i]))\n",
    "                    correction_extra [i,2] =(hist[i,j,103]- (hist[i,j,183]/2.+hist[i,j,23]/2.))/(1.*(counts_detec[i]))\n",
    "        joblib.dump((correction,correction_extra),filename)\n",
    "        return(correction,correction_extra)\n",
    "    elif mode == 'upload':\n",
    "        (correction,correction_extra) =joblib.load(filename)\n",
    "        return(correction,correction_extra)\n",
    "def histogram_correction(hist,correction,correction_extra,counts_detec,middle_row):\n",
    "    \"\"\"\n",
    "    Correct histograms using near 0 delay correction parameters\n",
    "    \n",
    "    \"\"\"\n",
    "    hist_corrected = np.copy(hist)\n",
    "    for i in range(23):\n",
    "        for j in range(23):\n",
    "            if i!=j:\n",
    "                hist_corrected[i,j,middle_row] -=(counts_detec[i]+counts_detec[j])*correction[i,j]\n",
    "            if i+5==j:\n",
    "                hist_corrected[i,j,middle_row+1] -=(counts_detec[i])*correction_extra[i,0]\n",
    "                hist_corrected[j,i,middle_row-1] -=(counts_detec[i])*correction_extra[i,0]            \n",
    "                hist_corrected[i,j,middle_row+2] -=(counts_detec[i])*correction_extra[i,1]\n",
    "                hist_corrected[j,i,middle_row-2] -=(counts_detec[i])*correction_extra[i,1]\n",
    "                hist_corrected[i,j,middle_row+3] -=(counts_detec[i])*correction_extra[i,2]\n",
    "                hist_corrected[j,i,middle_row-3] -=(counts_detec[i])*correction_extra[i,2]\n",
    "    return(hist_corrected)\n",
    "\n",
    "def scan_points(val_addr,x_points,y_points):\n",
    "    \"\"\"\n",
    "    finding triggers inside tags list and return list of all tags as numpy array\n",
    "    ok\n",
    "    \"\"\"\n",
    "\n",
    "    a = len(val_addr)\n",
    "    pixels = np.zeros((y_points,x_points))\n",
    "    lines = np.where(val_addr==234)[0]\n",
    "\n",
    "    if lines.shape ==(0,):\n",
    "        lines = np.array([0,a])\n",
    "    else:\n",
    "        lines =np.concatenate((lines,[a]))\n",
    "    for i in range(y_points):\n",
    "        part = val_addr[lines[i]:lines[i+1]]\n",
    "        pix = np.concatenate(([0],np.where(part==233)[0],[lines[i+1]-lines[i]]))\n",
    "        print(pix)\n",
    "        if i%2==0:\n",
    "            pixels[i] = lines[i] + pix[:-1]\n",
    "        else:\n",
    "            pixels[i] = lines[i] + np.flip(pix[:-1])\n",
    "    return(pixels,lines)\n",
    "\n",
    "\n",
    "def counts_scan(val_addr,val_timestamps,pixels,dwell_time):\n",
    "    \"\"\"\n",
    "    return number of counts of every detector/every pixel in desired dwell time\n",
    "    dwell time in miliseconds\n",
    "    \"\"\"\n",
    "    dwell_time = int(dwell_time * 1e5)\n",
    "    x,y = pixels.shape\n",
    "    counts = np.zeros((x,y,23))\n",
    "    for i in range(x):\n",
    "        print('line',i)\n",
    "        for j in range(y):\n",
    "            \n",
    "            if i%2 ==0:\n",
    "                delta= 1\n",
    "                while val_timestamps[int(pixels[i,j]+delta)]- val_timestamps[int(pixels[i,j])]<dwell_time:\n",
    "                    if val_addr[int(pixels[i,j]+delta)]<25:\n",
    "                        counts[i,j,val_addr[int(pixels[i,j]+delta)]] += 1\n",
    "                    delta += 1\n",
    "            else:\n",
    "                delta= 1\n",
    "\n",
    "                while val_timestamps[int(pixels[i,y-1-j]+delta)]- val_timestamps[int(pixels[i,y-1-j])]<dwell_time:\n",
    "                    if val_addr[int(pixels[i,y-1-j]+delta)]<25:\n",
    "                        counts[i,y-1-j,val_addr[int(pixels[i,y-1-j]+delta)]] += 1\n",
    "                    delta += 1\n",
    "\n",
    "    return(counts)\n",
    "\n",
    "def counts_scan_binned(val_addr,val_timestamps,pixels,dwell_time,bin_time):\n",
    "    \"\"\"\n",
    "    return number of counts of every detector/every pixel in desired dwell time presented in time series\n",
    "    \"\"\"\n",
    "    dwell_time = int(dwell_time * 1e5)\n",
    "    bin_time = int(bin_time * 1e5)\n",
    "    x,y = pixels.shape\n",
    "    counts = np.zeros((int(np.ceil(dwell_time/bin_time)),x,y,23))\n",
    "    for i in range(x):\n",
    "        print('line',i)\n",
    "        for j in range(y):\n",
    "            delta= 0\n",
    "            if i%2 ==0:\n",
    "                delta= 1\n",
    "                while val_timestamps[int(pixels[i,j]+delta)]- val_timestamps[int(pixels[i,j])]<dwell_time:\n",
    "                    if val_addr[int(pixels[i,j]+delta)]<25:\n",
    "                        bin_number = int(np.floor((val_timestamps[int(pixels[i,j])+delta]- val_timestamps[int(pixels[i,j])])/bin_time))\n",
    "                        counts[bin_number,i,j,val_addr[int(pixels[i,j])+delta]] += 1\n",
    "                    delta += 1\n",
    "            else:\n",
    "                delta= 1\n",
    "\n",
    "                while val_timestamps[int(pixels[i,y-1-j]+delta)]- val_timestamps[int(pixels[i,y-1-j])]<dwell_time:\n",
    "                    if val_addr[int(pixels[i,y-1-j]+delta)]<25:\n",
    "                        bin_number = int(np.floor((val_timestamps[int(pixels[i,y-1-j])+delta]- val_timestamps[int(pixels[i,y-1-j])])/bin_time))\n",
    "                        counts[bin_number,i,y-1-j,val_addr[int(pixels[i,y-1-j])+delta]] += 1\n",
    "                    delta += 1\n",
    "    return(counts)\n",
    "\n",
    "\n",
    "def counts_scan_binned_add(counts,val_addr,val_timestamps,pixels,dwell_time,bin_time,x,y):\n",
    "    \"\"\"\n",
    "    return number of counts of every detector/every pixel in desired dwell time presented in time series\n",
    "    Add result to existing counts table\n",
    "    \"\"\"\n",
    "\n",
    "    counts1 = np.zeros(1,(np.ceil(dwell_time/bin_time),x,y,23))\n",
    "    for i in range(x):\n",
    "        for j in range(y):\n",
    "            delta= 0\n",
    "            while val_timestamps[pixels[i,j]+delta]- val_timestamps[pixels[i,j]]<dwell_time:\n",
    "                bin_number = np.floor(val_timestamps[pixels[i,j]+delta]- val_timestamps[pixels[i,j]])\n",
    "                counts1[0,bin_number,i,j,val_addr[pixels[i,j]+delta]] += 1\n",
    "                delta += 1\n",
    "    counts = np.concatenate((counts,counts),axis = 0)\n",
    "    return(counts)        \n",
    "        \n",
    "def histogram_plot(val_addr):\n",
    "    \"\"\"\n",
    "    Create a detector heat map for certain range of tags\n",
    "    \"\"\"\n",
    "    pos = np.zeros((val_addr.shape[0],2))\n",
    "    for i in range(val_addr.shape[0]):\n",
    "        if i%1e6==0:\n",
    "            print(i)\n",
    "        temp=val_addr[i]\n",
    "        if temp<25:\n",
    "            if temp<=4:\n",
    "                pos[i,0]=np.sqrt(3)\n",
    "                pos[i,1] = temp-2.\n",
    "            elif temp<=8:\n",
    "                pos[i,0]=np.sqrt(3)/2.\n",
    "                pos[i,1] = temp-6.5            \n",
    "            elif temp<=13:\n",
    "                pos[i,0]=0\n",
    "                pos[i,1] = temp-11. \n",
    "            elif temp<=17:\n",
    "                pos[i,0]=-np.sqrt(3)/2.\n",
    "                pos[i,1] = temp-15.5  \n",
    "            elif temp<=23:\n",
    "                pos[i,0]=-np.sqrt(3)\n",
    "                pos[i,1] = temp-20.\n",
    "    plt.hexbin(pos[:,1],pos[:,0],gridsize=(4,2))\n",
    "    plt.colorbar()\n",
    "    plt.show()\n",
    "    return(pos)\n",
    "\n",
    "def counts_binned(val_addr,val_timestamps,bin_time):\n",
    "    \"\"\"\n",
    "    return number of counts of every detector/every pixel in desired dwell time presented in time series\n",
    "    \"\"\"\n",
    "    bin_time = int(bin_time * 1e5)\n",
    "    max_time = max(val_timestamps)\n",
    "    counts = np.zeros((int(np.ceil(max_time/bin_time)),23))\n",
    "\n",
    "    for i  in range(len(val_addr)):\n",
    "        if val_addr[i]<25:\n",
    "            bin_number = int(np.floor((val_timestamps[i])/bin_time))\n",
    "            counts[bin_number,val_addr[i]] += 1\n",
    "           \n",
    "    return(counts)\n",
    "\n",
    "\n",
    "(correction,correction_extra)= joblib.load('correction_parameters_laser.pkl')\n",
    "vx=np.load('vx_06_07_2020.npy')\n",
    "vy=np.load('vy_06_07_2020.npy')\n"
   ]
  },
  {
   "cell_type": "code",
   "execution_count": 31,
   "metadata": {
    "scrolled": true
   },
   "outputs": [
    {
     "name": "stdout",
     "output_type": "stream",
     "text": [
      "[[255 255 255 239]\n",
      " [ 90  37   0 128]\n",
      " [210  37   0 172]\n",
      " [ 21  47   0 148]\n",
      " [190  78   0 128]\n",
      " [ 37 109   0 128]\n",
      " [  2 142   0 212]\n",
      " [ 70 189   0 208]]\n",
      "[     0  36929  70005 100349 128209 155551 181870 208398 234907 262722\n",
      " 290880 318898 347759 376704 405124 433343 461414 488667 515474 541682\n",
      " 567698 593630]\n",
      "[     0  28222  55942  84322 112943 141432 170761 200744 231199 261965\n",
      " 292828 323667 354254 383586 411815 438280 463263 487605 511604 536279\n",
      " 561714 589407]\n",
      "[     0  27660  53392  78876 103860 129215 155714 182966 212213 243446\n",
      " 276198 309651 342948 376900 410194 442452 474162 504362 533976 562733\n",
      " 590765 619090]\n",
      "[     0  31895  63970  98003 132656 168147 204693 242925 281126 319302\n",
      " 356959 393558 429210 463814 496562 526816 555256 582205 607878 633214\n",
      " 657554 682225]\n",
      "[     0  25869  51791  78565 105635 134025 164507 197464 232891 270480\n",
      " 311419 353607 397720 443053 488955 534354 577677 618860 658519 696360\n",
      " 732005 766379]\n",
      "[     0  41399  85325 132371 183049 236759 293454 353123 413106 474164\n",
      " 533101 588958 640313 687190 730939 770169 806128 838340 867091 893877\n",
      " 918561 942647]\n",
      "[      0   26395   54278   83998  117229  154565  197534  246786  303120\n",
      "  365524  433843  508066  585756  668158  750333  833987  912063  984646\n",
      " 1050414 1111218 1166064 1214905]\n",
      "[      0   62233  131826  211485  305019  410755  528392  657303  792356\n",
      "  927769 1060417 1186238 1301471 1405380 1492177 1567003 1630639 1683533\n",
      " 1727369 1763899 1795519 1824500]\n",
      "[      0   33541   70574  113887  168839  236916  322117  427568  554559\n",
      "  702032  877106 1071882 1272796 1476651 1679471 1871050 2040995 2191530\n",
      " 2322418 2433918 2524566 2599022]\n",
      "[      0   96018  211855  360178  541059  758076 1009250 1286155 1579550\n",
      " 1891541 2205072 2505368 2772150 2996437 3191385 3354939 3489139 3594936\n",
      " 3679474 3745140 3795257 3835632]\n",
      "[      0   50802  107572  176897  264726  379809  529739  716012  949067\n",
      " 1226894 1554112 1928629 2329230 2738258 3149846 3535328 3887103 4187394\n",
      " 4431554 4626398 4772434 4883363]\n",
      "[      0  142722  326079  572792  890234 1276826 1713734 2189265 2680822\n",
      " 3172149 3624048 4047453 4428749 4747841 5014440 5235111 5411220 5547352\n",
      " 5652641 5735683 5802623 5859953]\n",
      "[      0   72048  149616  239245  347628  482857  655040  872972 1137473\n",
      " 1457137 1833005 2268973 2754648 3270212 3802505 4326019 4832808 5279289\n",
      " 5647700 5932704 6140688 6293258]\n",
      "[      0  187629  436773  773571 1196612 1699052 2259532 2853676 3433556\n",
      " 3982008 4479807 4918265 5294083 5603668 5859152 6073780 6237535 6369805\n",
      " 6477236 6568962 6649087 6721635]\n",
      "[      0   82192  167709  261193  365110  487118  633432  809606 1027595\n",
      " 1288373 1599692 1973230 2414414 2919079 3471659 4046047 4602368 5108069\n",
      " 5535235 5871597 6115514 6285129]\n",
      "[      0  198012  452319  784718 1201299 1681418 2204637 2736850 3241381\n",
      " 3692382 4079192 4402790 4669445 4891101 5077089 5233416 5363978 5475012\n",
      " 5569510 5652426 5729380 5802191]\n",
      "[      0   73589  147368  224428  307603  399745  505501  629985  777350\n",
      "  950899 1160372 1415048 1730546 2100884 2510369 2943856 3370473 3761920\n",
      " 4101792 4376401 4578913 4722734]\n",
      "[      0  145510  324255  547726  814020 1122253 1454163 1788937 2116365\n",
      " 2421125 2682256 2896820 3075639 3222654 3349205 3455751 3545631 3623943\n",
      " 3692204 3755061 3812367 3866611]\n",
      "[      0   51663  103754  158774  217445  282638  356251  439083  535183\n",
      "  647235  778608  937760 1125071 1337727 1574149 1823661 2073330 2299226\n",
      " 2498705 2665547 2794623 2889305]\n",
      "[      0   85970  186788  308439  447363  601785  769332  942764 1115254\n",
      " 1276351 1421300 1546325 1652894 1743740 1822869 1891100 1951234 2005287\n",
      " 2054477 2099443 2142347 2185526]\n",
      "line 0\n",
      "line 1\n",
      "line 2\n",
      "line 3\n",
      "line 4\n",
      "line 5\n",
      "line 6\n",
      "line 7\n",
      "line 8\n",
      "line 9\n",
      "line 10\n",
      "line 11\n",
      "line 12\n",
      "line 13\n",
      "line 14\n",
      "line 15\n",
      "line 16\n",
      "line 17\n",
      "line 18\n",
      "line 19\n"
     ]
    }
   ],
   "source": [
    "#intensity scan analysis with time binning\n",
    "#final data- (counts) intensity value of each pixel in every scan point binned \n",
    "# format :(x,y,detector)\n",
    "# dwell and bin times in ms\n",
    "nanoSPAD_X= 20\n",
    "nanoSPAD_Y= 20\n",
    "dwell_time = 250\n",
    "bin_time = 0.01\n",
    "val_addr, val_timestamps  = upload_file(data_folder=\"./data/NANOspad/2020.07/\",filename = \"5mhz_15_07_v2\")\n",
    "counts_detec=detector_intensity(val_addr)\n",
    "val_time=time_unwrap(val_timestamps)\n",
    "points,lines = scan_points(val_addr=val_addr,x_points=nanoSPAD_X+1,y_points = nanoSPAD_Y)\n",
    "\n",
    "#Counts variables(with/without binning)\n",
    "#counts = counts_scan(val_addr,val_time,points,dwell_time = dwell_time)\n",
    "s = counts_scan_binned(val_addr,val_time,points,dwell_time = dwell_time, bin_time = bin_time)"
   ]
  },
  {
   "cell_type": "code",
   "execution_count": 36,
   "metadata": {},
   "outputs": [],
   "source": [
    "scans=np.zeros((1,s.shape[0],s.shape[1],s.shape[2],s.shape[3]+1))\n",
    "scans[0,:,:,:,:-2]=np.concatenate((s[:,:,:,:14],s[:,:,:,15:]),axis=3)"
   ]
  },
  {
   "cell_type": "code",
   "execution_count": 32,
   "metadata": {},
   "outputs": [
    {
     "data": {
      "text/plain": [
       "<matplotlib.colorbar.Colorbar at 0xb763508>"
      ]
     },
     "execution_count": 32,
     "metadata": {},
     "output_type": "execute_result"
    },
    {
     "data": {
      "image/png": "[encoded data removed]",
      "text/plain": [
       "<Figure size 432x288 with 2 Axes>"
      ]
     },
     "metadata": {
      "needs_background": "light"
     },
     "output_type": "display_data"
    }
   ],
   "source": [
    "plt.imshow(scans.sum(axis=(0,1,4)))\n",
    "plt.colorbar()"
   ]
  },
  {
   "cell_type": "code",
   "execution_count": 34,
   "metadata": {},
   "outputs": [],
   "source": [
    "xc2=si.get_xc2(scans[0,:,:,:,:],vx,vy,1)"
   ]
  },
  {
   "cell_type": "code",
   "execution_count": 47,
   "metadata": {},
   "outputs": [
    {
     "data": {
      "text/plain": [
       "13.0"
      ]
     },
     "execution_count": 47,
     "metadata": {},
     "output_type": "execute_result"
    }
   ],
   "source": [
    "np.max(scans)"
   ]
  },
  {
   "cell_type": "code",
   "execution_count": 35,
   "metadata": {},
   "outputs": [
    {
     "name": "stdout",
     "output_type": "stream",
     "text": [
      "-20.150948729856918\n"
     ]
    },
    {
     "data": {
      "image/png": "[encoded data removed]",
      "text/plain": [
       "<Figure size 432x288 with 2 Axes>"
      ]
     },
     "metadata": {
      "needs_background": "light"
     },
     "output_type": "display_data"
    }
   ],
   "source": [
    "plt.imshow(xc2.T)\n",
    "plt.colorbar()\n",
    "print(np.min(xc2))"
   ]
  },
  {
   "cell_type": "code",
   "execution_count": 45,
   "metadata": {},
   "outputs": [
    {
     "name": "stdout",
     "output_type": "stream",
     "text": [
      "23.450999975204468\n"
     ]
    }
   ],
   "source": [
    "\n",
    "start=time.time()\n",
    "\n",
    "xc2=si.get_xc2(scans[0,:,:,:,:],vx,vy,1).T\n",
    "print(time.time()-start)\n",
    "#for i in range(3):\n",
    "#    print(i)\n",
    "#    xc2+=si.get_xc2(scans[0,:,:,:,:],vx,vy,2+i).T"
   ]
  },
  {
   "cell_type": "code",
   "execution_count": 43,
   "metadata": {},
   "outputs": [
    {
     "name": "stdout",
     "output_type": "stream",
     "text": [
      "-0.19195693399553265\n"
     ]
    },
    {
     "data": {
      "image/png": "[encoded data removed]",
      "text/plain": [
       "<Figure size 432x288 with 2 Axes>"
      ]
     },
     "metadata": {
      "needs_background": "light"
     },
     "output_type": "display_data"
    }
   ],
   "source": [
    "plt.imshow(xc2)\n",
    "plt.colorbar()\n",
    "print(np.min(xc2))"
   ]
  },
  {
   "cell_type": "code",
   "execution_count": 33,
   "metadata": {},
   "outputs": [
    {
     "data": {
      "text/plain": [
       "<matplotlib.colorbar.Colorbar at 0xc7dc548>"
      ]
     },
     "execution_count": 33,
     "metadata": {},
     "output_type": "execute_result"
    },
    {
     "data": {
      "image/png": "[encoded data removed]",
      "text/plain": [
       "<Figure size 432x288 with 2 Axes>"
      ]
     },
     "metadata": {
      "needs_background": "light"
     },
     "output_type": "display_data"
    }
   ],
   "source": [
    "plt.imshow(si.ac1_image(scans,vx,vy))\n",
    "plt.colorbar()"
   ]
  },
  {
   "cell_type": "code",
   "execution_count": null,
   "metadata": {},
   "outputs": [],
   "source": []
  }
 ],
 "metadata": {
  "kernelspec": {
   "display_name": "Python 3",
   "language": "python",
   "name": "python3"
  },
  "language_info": {
   "codemirror_mode": {
    "name": "ipython",
    "version": 3
   },
   "file_extension": ".py",
   "mimetype": "text/x-python",
   "name": "python",
   "nbconvert_exporter": "python",
   "pygments_lexer": "ipython3",
   "version": "3.7.6"
  }
 },
 "nbformat": 4,
 "nbformat_minor": 4
}
